{
 "cells": [
  {
   "cell_type": "code",
   "execution_count": 7,
   "metadata": {},
   "outputs": [],
   "source": [
    "import pandas as pd"
   ]
  },
  {
   "cell_type": "code",
   "execution_count": 3,
   "metadata": {},
   "outputs": [],
   "source": [
    "movie_data = pd.read_json('movie.json.txt')\n"
   ]
  },
  {
   "cell_type": "code",
   "execution_count": 4,
   "metadata": {},
   "outputs": [
    {
     "data": {
      "text/html": [
       "<div>\n",
       "<style>\n",
       "    .dataframe thead tr:only-child th {\n",
       "        text-align: right;\n",
       "    }\n",
       "\n",
       "    .dataframe thead th {\n",
       "        text-align: left;\n",
       "    }\n",
       "\n",
       "    .dataframe tbody tr th {\n",
       "        vertical-align: top;\n",
       "    }\n",
       "</style>\n",
       "<table border=\"1\" class=\"dataframe\">\n",
       "  <thead>\n",
       "    <tr style=\"text-align: right;\">\n",
       "      <th></th>\n",
       "      <th>Adam Cohen</th>\n",
       "      <th>Bill Duffy</th>\n",
       "      <th>Brenda Peterson</th>\n",
       "      <th>Chris Duncan</th>\n",
       "      <th>Clarissa Jackson</th>\n",
       "      <th>David Smith</th>\n",
       "      <th>Julie Hammel</th>\n",
       "      <th>Samuel Miller</th>\n",
       "    </tr>\n",
       "  </thead>\n",
       "  <tbody>\n",
       "    <tr>\n",
       "      <th>Goodfellas</th>\n",
       "      <td>4.5</td>\n",
       "      <td>4.5</td>\n",
       "      <td>2.0</td>\n",
       "      <td>NaN</td>\n",
       "      <td>2.5</td>\n",
       "      <td>4.5</td>\n",
       "      <td>3.0</td>\n",
       "      <td>5.0</td>\n",
       "    </tr>\n",
       "    <tr>\n",
       "      <th>Raging Bull</th>\n",
       "      <td>NaN</td>\n",
       "      <td>NaN</td>\n",
       "      <td>1.0</td>\n",
       "      <td>4.5</td>\n",
       "      <td>4.0</td>\n",
       "      <td>3.0</td>\n",
       "      <td>NaN</td>\n",
       "      <td>5.0</td>\n",
       "    </tr>\n",
       "    <tr>\n",
       "      <th>Roman Holiday</th>\n",
       "      <td>3.0</td>\n",
       "      <td>NaN</td>\n",
       "      <td>4.5</td>\n",
       "      <td>NaN</td>\n",
       "      <td>1.5</td>\n",
       "      <td>NaN</td>\n",
       "      <td>4.5</td>\n",
       "      <td>1.0</td>\n",
       "    </tr>\n",
       "    <tr>\n",
       "      <th>Scarface</th>\n",
       "      <td>3.0</td>\n",
       "      <td>5.0</td>\n",
       "      <td>1.5</td>\n",
       "      <td>NaN</td>\n",
       "      <td>4.5</td>\n",
       "      <td>4.5</td>\n",
       "      <td>2.5</td>\n",
       "      <td>3.5</td>\n",
       "    </tr>\n",
       "    <tr>\n",
       "      <th>The Apartment</th>\n",
       "      <td>1.0</td>\n",
       "      <td>1.0</td>\n",
       "      <td>5.0</td>\n",
       "      <td>1.5</td>\n",
       "      <td>1.0</td>\n",
       "      <td>1.0</td>\n",
       "      <td>NaN</td>\n",
       "      <td>1.0</td>\n",
       "    </tr>\n",
       "  </tbody>\n",
       "</table>\n",
       "</div>"
      ],
      "text/plain": [
       "               Adam Cohen  Bill Duffy  Brenda Peterson  Chris Duncan  \\\n",
       "Goodfellas            4.5         4.5              2.0           NaN   \n",
       "Raging Bull           NaN         NaN              1.0           4.5   \n",
       "Roman Holiday         3.0         NaN              4.5           NaN   \n",
       "Scarface              3.0         5.0              1.5           NaN   \n",
       "The Apartment         1.0         1.0              5.0           1.5   \n",
       "\n",
       "               Clarissa Jackson  David Smith  Julie Hammel  Samuel Miller  \n",
       "Goodfellas                  2.5          4.5           3.0            5.0  \n",
       "Raging Bull                 4.0          3.0           NaN            5.0  \n",
       "Roman Holiday               1.5          NaN           4.5            1.0  \n",
       "Scarface                    4.5          4.5           2.5            3.5  \n",
       "The Apartment               1.0          1.0           NaN            1.0  "
      ]
     },
     "execution_count": 4,
     "metadata": {},
     "output_type": "execute_result"
    }
   ],
   "source": [
    "movie_data.head()"
   ]
  },
  {
   "cell_type": "code",
   "execution_count": 8,
   "metadata": {
    "collapsed": true
   },
   "outputs": [],
   "source": [
    "from sklearn.neighbors import NearestNeighbors"
   ]
  },
  {
   "cell_type": "code",
   "execution_count": 13,
   "metadata": {},
   "outputs": [],
   "source": [
    "movie_data.fillna(0, inplace=True)"
   ]
  },
  {
   "cell_type": "code",
   "execution_count": 14,
   "metadata": {},
   "outputs": [],
   "source": [
    "knn_model = NearestNeighbors(n_neighbors=8).fit(movie_data.as_matrix().T)"
   ]
  },
  {
   "cell_type": "code",
   "execution_count": 18,
   "metadata": {},
   "outputs": [],
   "source": [
    "_, nearest_data = knn_model.kneighbors(movie_data.as_matrix().T[:2])"
   ]
  },
  {
   "cell_type": "code",
   "execution_count": 20,
   "metadata": {},
   "outputs": [
    {
     "data": {
      "text/plain": [
       "array([0, 1, 6, 5, 4, 2, 7, 3], dtype=int64)"
      ]
     },
     "execution_count": 20,
     "metadata": {},
     "output_type": "execute_result"
    }
   ],
   "source": [
    "nearest_data[0]"
   ]
  },
  {
   "cell_type": "code",
   "execution_count": 22,
   "metadata": {
    "collapsed": true
   },
   "outputs": [],
   "source": [
    "knn_model = NearestNeighbors(n_neighbors=4).fit(movie_data.as_matrix())"
   ]
  },
  {
   "cell_type": "code",
   "execution_count": 23,
   "metadata": {
    "collapsed": true
   },
   "outputs": [],
   "source": [
    "_, nearest_data = knn_model.kneighbors(movie_data.as_matrix()[:2])"
   ]
  },
  {
   "cell_type": "code",
   "execution_count": 24,
   "metadata": {},
   "outputs": [
    {
     "data": {
      "text/plain": [
       "array([0, 3, 5, 2], dtype=int64)"
      ]
     },
     "execution_count": 24,
     "metadata": {},
     "output_type": "execute_result"
    }
   ],
   "source": [
    "nearest_data[0]"
   ]
  },
  {
   "cell_type": "markdown",
   "metadata": {},
   "source": [
    "#### Computing similarity score\n",
    "* Pearson score\n",
    "* Euclidian score"
   ]
  },
  {
   "cell_type": "code",
   "execution_count": null,
   "metadata": {
    "collapsed": true
   },
   "outputs": [],
   "source": [
    "def edclidian_score(movie_data, user1, user2):\n",
    "    common_movies = {}\n",
    "    users_df = movie_data[[user1,user2]]\n",
    "    users_df.dropna()"
   ]
  },
  {
   "cell_type": "code",
   "execution_count": 33,
   "metadata": {},
   "outputs": [],
   "source": [
    "movie_data = pd.read_json('movie.json.txt')\n",
    "common_movies_list = movie_data[['Adam Cohen','Bill Duffy']].dropna().index.tolist()"
   ]
  },
  {
   "cell_type": "code",
   "execution_count": 34,
   "metadata": {},
   "outputs": [],
   "source": [
    "common_movies = {}\n",
    "for movie in common_movies_list:\n",
    "    common_movies[movie] = 1\n",
    "    "
   ]
  },
  {
   "cell_type": "code",
   "execution_count": 35,
   "metadata": {},
   "outputs": [
    {
     "data": {
      "text/plain": [
       "{'Goodfellas': 1, 'Scarface': 1, 'The Apartment': 1, 'Vertigo': 1}"
      ]
     },
     "execution_count": 35,
     "metadata": {},
     "output_type": "execute_result"
    }
   ],
   "source": [
    "common_movies"
   ]
  },
  {
   "cell_type": "code",
   "execution_count": 36,
   "metadata": {},
   "outputs": [
    {
     "data": {
      "text/plain": [
       "['Goodfellas', 'Scarface', 'The Apartment', 'Vertigo']"
      ]
     },
     "execution_count": 36,
     "metadata": {},
     "output_type": "execute_result"
    }
   ],
   "source": [
    "common_movies_list\n"
   ]
  },
  {
   "cell_type": "code",
   "execution_count": 38,
   "metadata": {},
   "outputs": [],
   "source": [
    "common_movie_df = movie_data[['Adam Cohen','Bill Duffy']].loc[common_movies_list]"
   ]
  },
  {
   "cell_type": "code",
   "execution_count": 39,
   "metadata": {},
   "outputs": [
    {
     "data": {
      "text/plain": [
       "Index(['Adam Cohen', 'Bill Duffy'], dtype='object')"
      ]
     },
     "execution_count": 39,
     "metadata": {},
     "output_type": "execute_result"
    }
   ],
   "source": [
    "common_movie_df.columns"
   ]
  },
  {
   "cell_type": "code",
   "execution_count": 40,
   "metadata": {
    "collapsed": true
   },
   "outputs": [],
   "source": [
    "import numpy as np\n",
    "common_movie_df['sq_diff'] = np.square(common_movie_df['Adam Cohen'] - common_movie_df['Bill Duffy'])"
   ]
  },
  {
   "cell_type": "code",
   "execution_count": 42,
   "metadata": {},
   "outputs": [
    {
     "data": {
      "text/plain": [
       "5.0"
      ]
     },
     "execution_count": 42,
     "metadata": {},
     "output_type": "execute_result"
    }
   ],
   "source": [
    "np.sum(common_movie_df.sq_diff)"
   ]
  },
  {
   "cell_type": "code",
   "execution_count": 60,
   "metadata": {
    "collapsed": true
   },
   "outputs": [],
   "source": [
    "#No common movies - np similarity\n",
    "def get_similar_users(movie_data, user1, user2):\n",
    "    common_movies_list = movie_data[[user1,user2]].dropna().index.tolist()\n",
    "    common_movie_df = movie_data[[user1,user2]].loc[common_movies_list]\n",
    "    common_movie_df['sq_diff'] = np.square(common_movie_df[user1] - common_movie_df[user2])\n",
    "    return 1 - 1/(1 + np.sqrt(np.sum(common_movie_df.sq_diff)))"
   ]
  },
  {
   "cell_type": "code",
   "execution_count": 61,
   "metadata": {
    "collapsed": true
   },
   "outputs": [],
   "source": [
    "users = movie_data.columns.tolist()"
   ]
  },
  {
   "cell_type": "code",
   "execution_count": 62,
   "metadata": {},
   "outputs": [
    {
     "name": "stdout",
     "output_type": "stream",
     "text": [
      "Adam Cohen Bill Duffy 0.690983005625\n",
      "Adam Cohen Brenda Peterson 0.838609522204\n",
      "Adam Cohen Chris Duncan 0.333333333333\n",
      "Adam Cohen Clarissa Jackson 0.766285203882\n",
      "Adam Cohen David Smith 0.612574113277\n",
      "Adam Cohen Julie Hammel 0.685480140861\n",
      "Adam Cohen Samuel Miller 0.679622758983\n",
      "Bill Duffy Adam Cohen 0.690983005625\n",
      "Bill Duffy Brenda Peterson 0.858400620238\n",
      "Bill Duffy Chris Duncan 0.333333333333\n",
      "Bill Duffy Clarissa Jackson 0.679622758983\n",
      "Bill Duffy David Smith 0.414213562373\n",
      "Bill Duffy Julie Hammel 0.74460320701\n",
      "Bill Duffy Samuel Miller 0.612574113277\n",
      "Brenda Peterson Adam Cohen 0.838609522204\n",
      "Brenda Peterson Bill Duffy 0.858400620238\n",
      "Brenda Peterson Chris Duncan 0.831925639647\n",
      "Brenda Peterson Clarissa Jackson 0.872997545028\n",
      "Brenda Peterson David Smith 0.857566034343\n",
      "Brenda Peterson Julie Hammel 0.585786437627\n",
      "Brenda Peterson Samuel Miller 0.883264480441\n",
      "Chris Duncan Adam Cohen 0.333333333333\n",
      "Chris Duncan Bill Duffy 0.333333333333\n",
      "Chris Duncan Brenda Peterson 0.831925639647\n",
      "Chris Duncan Clarissa Jackson 0.414213562373\n",
      "Chris Duncan David Smith 0.612574113277\n",
      "Chris Duncan Julie Hammel 0.0\n",
      "Chris Duncan Samuel Miller 0.414213562373\n",
      "Clarissa Jackson Adam Cohen 0.766285203882\n",
      "Clarissa Jackson Bill Duffy 0.679622758983\n",
      "Clarissa Jackson Brenda Peterson 0.872997545028\n",
      "Clarissa Jackson Chris Duncan 0.414213562373\n",
      "Clarissa Jackson David Smith 0.710102051443\n",
      "Clarissa Jackson Julie Hammel 0.784485310642\n",
      "Clarissa Jackson Samuel Miller 0.74460320701\n",
      "David Smith Adam Cohen 0.612574113277\n",
      "David Smith Bill Duffy 0.414213562373\n",
      "David Smith Brenda Peterson 0.857566034343\n",
      "David Smith Chris Duncan 0.612574113277\n",
      "David Smith Clarissa Jackson 0.710102051443\n",
      "David Smith Julie Hammel 0.714285714286\n",
      "David Smith Samuel Miller 0.696167565299\n",
      "Julie Hammel Adam Cohen 0.685480140861\n",
      "Julie Hammel Bill Duffy 0.74460320701\n",
      "Julie Hammel Brenda Peterson 0.585786437627\n",
      "Julie Hammel Chris Duncan 0.0\n",
      "Julie Hammel Clarissa Jackson 0.784485310642\n",
      "Julie Hammel David Smith 0.714285714286\n",
      "Julie Hammel Samuel Miller 0.805950034987\n",
      "Samuel Miller Adam Cohen 0.679622758983\n",
      "Samuel Miller Bill Duffy 0.612574113277\n",
      "Samuel Miller Brenda Peterson 0.883264480441\n",
      "Samuel Miller Chris Duncan 0.414213562373\n",
      "Samuel Miller Clarissa Jackson 0.74460320701\n",
      "Samuel Miller David Smith 0.696167565299\n",
      "Samuel Miller Julie Hammel 0.805950034987\n"
     ]
    }
   ],
   "source": [
    "for user1 in users:\n",
    "    for user2 in users:\n",
    "        if user1 != user2:\n",
    "            similarity = get_similar_users(movie_data,user1,user2)\n",
    "            print (user1, user2, similarity)"
   ]
  },
  {
   "cell_type": "code",
   "execution_count": 54,
   "metadata": {
    "collapsed": true
   },
   "outputs": [],
   "source": [
    "#### Pearson Correlation"
   ]
  },
  {
   "cell_type": "code",
   "execution_count": 55,
   "metadata": {
    "collapsed": true
   },
   "outputs": [],
   "source": [
    "def get_pearson_correlation(movie_data, user1, user2):\n",
    "    common_movies_list = movie_data[[user1,user2]].dropna().index.tolist()\n",
    "    common_movie_df = movie_data[[user1,user2]].loc[common_movies_list]\n",
    "    return common_movie_df.corr().loc[]"
   ]
  },
  {
   "cell_type": "code",
   "execution_count": 56,
   "metadata": {},
   "outputs": [
    {
     "data": {
      "text/html": [
       "<div>\n",
       "<style>\n",
       "    .dataframe thead tr:only-child th {\n",
       "        text-align: right;\n",
       "    }\n",
       "\n",
       "    .dataframe thead th {\n",
       "        text-align: left;\n",
       "    }\n",
       "\n",
       "    .dataframe tbody tr th {\n",
       "        vertical-align: top;\n",
       "    }\n",
       "</style>\n",
       "<table border=\"1\" class=\"dataframe\">\n",
       "  <thead>\n",
       "    <tr style=\"text-align: right;\">\n",
       "      <th></th>\n",
       "      <th>Samuel Miller</th>\n",
       "      <th>David Smith</th>\n",
       "    </tr>\n",
       "  </thead>\n",
       "  <tbody>\n",
       "    <tr>\n",
       "      <th>Samuel Miller</th>\n",
       "      <td>1.000000</td>\n",
       "      <td>0.758787</td>\n",
       "    </tr>\n",
       "    <tr>\n",
       "      <th>David Smith</th>\n",
       "      <td>0.758787</td>\n",
       "      <td>1.000000</td>\n",
       "    </tr>\n",
       "  </tbody>\n",
       "</table>\n",
       "</div>"
      ],
      "text/plain": [
       "               Samuel Miller  David Smith\n",
       "Samuel Miller       1.000000     0.758787\n",
       "David Smith         0.758787     1.000000"
      ]
     },
     "execution_count": 56,
     "metadata": {},
     "output_type": "execute_result"
    }
   ],
   "source": [
    "get_pearson_correlation(movie_data, 'Samuel Miller', 'David Smith')"
   ]
  },
  {
   "cell_type": "code",
   "execution_count": null,
   "metadata": {
    "collapsed": true
   },
   "outputs": [],
   "source": []
  }
 ],
 "metadata": {
  "kernelspec": {
   "display_name": "Python 3",
   "language": "python",
   "name": "python3"
  },
  "language_info": {
   "codemirror_mode": {
    "name": "ipython",
    "version": 3
   },
   "file_extension": ".py",
   "mimetype": "text/x-python",
   "name": "python",
   "nbconvert_exporter": "python",
   "pygments_lexer": "ipython3",
   "version": "3.5.4"
  }
 },
 "nbformat": 4,
 "nbformat_minor": 2
}
