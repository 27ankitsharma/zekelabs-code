{
 "cells": [
  {
   "cell_type": "markdown",
   "metadata": {},
   "source": [
    "### Defination\n",
    "Machine Learning By examples\n",
    "\n",
    "* Supervised - Regression & Classification\n",
    "* Unsepervised - Relationship amaong data, Clustering  & Dimensionality reduction"
   ]
  },
  {
   "cell_type": "markdown",
   "metadata": {
    "collapsed": true
   },
   "source": [
    "#### Scikit-Learn\n",
    "* Provides large number of common algorithms"
   ]
  },
  {
   "cell_type": "code",
   "execution_count": 21,
   "metadata": {
    "collapsed": true
   },
   "outputs": [],
   "source": [
    "### Data representation in scikit-learn\n",
    "\n",
    "import seaborn as sns\n",
    "iris = sns.load_dataset('iris')"
   ]
  },
  {
   "cell_type": "code",
   "execution_count": 22,
   "metadata": {},
   "outputs": [
    {
     "data": {
      "text/html": [
       "<div>\n",
       "<table border=\"1\" class=\"dataframe\">\n",
       "  <thead>\n",
       "    <tr style=\"text-align: right;\">\n",
       "      <th></th>\n",
       "      <th>sepal_length</th>\n",
       "      <th>sepal_width</th>\n",
       "      <th>petal_length</th>\n",
       "      <th>petal_width</th>\n",
       "      <th>species</th>\n",
       "    </tr>\n",
       "  </thead>\n",
       "  <tbody>\n",
       "    <tr>\n",
       "      <th>0</th>\n",
       "      <td>5.1</td>\n",
       "      <td>3.5</td>\n",
       "      <td>1.4</td>\n",
       "      <td>0.2</td>\n",
       "      <td>setosa</td>\n",
       "    </tr>\n",
       "    <tr>\n",
       "      <th>1</th>\n",
       "      <td>4.9</td>\n",
       "      <td>3.0</td>\n",
       "      <td>1.4</td>\n",
       "      <td>0.2</td>\n",
       "      <td>setosa</td>\n",
       "    </tr>\n",
       "    <tr>\n",
       "      <th>2</th>\n",
       "      <td>4.7</td>\n",
       "      <td>3.2</td>\n",
       "      <td>1.3</td>\n",
       "      <td>0.2</td>\n",
       "      <td>setosa</td>\n",
       "    </tr>\n",
       "    <tr>\n",
       "      <th>3</th>\n",
       "      <td>4.6</td>\n",
       "      <td>3.1</td>\n",
       "      <td>1.5</td>\n",
       "      <td>0.2</td>\n",
       "      <td>setosa</td>\n",
       "    </tr>\n",
       "    <tr>\n",
       "      <th>4</th>\n",
       "      <td>5.0</td>\n",
       "      <td>3.6</td>\n",
       "      <td>1.4</td>\n",
       "      <td>0.2</td>\n",
       "      <td>setosa</td>\n",
       "    </tr>\n",
       "  </tbody>\n",
       "</table>\n",
       "</div>"
      ],
      "text/plain": [
       "   sepal_length  sepal_width  petal_length  petal_width species\n",
       "0           5.1          3.5           1.4          0.2  setosa\n",
       "1           4.9          3.0           1.4          0.2  setosa\n",
       "2           4.7          3.2           1.3          0.2  setosa\n",
       "3           4.6          3.1           1.5          0.2  setosa\n",
       "4           5.0          3.6           1.4          0.2  setosa"
      ]
     },
     "execution_count": 22,
     "metadata": {},
     "output_type": "execute_result"
    }
   ],
   "source": [
    "iris.head()"
   ]
  },
  {
   "cell_type": "code",
   "execution_count": 23,
   "metadata": {},
   "outputs": [
    {
     "data": {
      "text/plain": [
       "(150, 5)"
      ]
     },
     "execution_count": 23,
     "metadata": {},
     "output_type": "execute_result"
    }
   ],
   "source": [
    "iris.shape"
   ]
  },
  {
   "cell_type": "markdown",
   "metadata": {},
   "source": [
    "#### Supervised Learning Example : Simple linear Regression"
   ]
  },
  {
   "cell_type": "code",
   "execution_count": 24,
   "metadata": {
    "collapsed": true
   },
   "outputs": [],
   "source": [
    "import matplotlib.pyplot as plt\n",
    "%matplotlib inline\n",
    "import numpy as np"
   ]
  },
  {
   "cell_type": "code",
   "execution_count": 25,
   "metadata": {
    "collapsed": true
   },
   "outputs": [],
   "source": [
    "rng = np.random.RandomState(11)"
   ]
  },
  {
   "cell_type": "code",
   "execution_count": 32,
   "metadata": {},
   "outputs": [
    {
     "data": {
      "text/plain": [
       "array([[ 5.36413255],\n",
       "       [ 0.90924842],\n",
       "       [ 0.65749409],\n",
       "       [ 6.68533173],\n",
       "       [ 7.91614479],\n",
       "       [ 4.62427768],\n",
       "       [ 4.02146058],\n",
       "       [ 7.01548799],\n",
       "       [ 0.76041378],\n",
       "       [ 2.78282875],\n",
       "       [ 9.05267409],\n",
       "       [ 9.48955807],\n",
       "       [ 0.38396092],\n",
       "       [ 0.03064123],\n",
       "       [ 7.67884122],\n",
       "       [ 4.51878276],\n",
       "       [ 7.62430456],\n",
       "       [ 6.4298306 ],\n",
       "       [ 4.4796639 ],\n",
       "       [ 7.09980966],\n",
       "       [ 6.04527239],\n",
       "       [ 0.15716058],\n",
       "       [ 4.66120517],\n",
       "       [ 8.82004649],\n",
       "       [ 7.80284444],\n",
       "       [ 6.54928121],\n",
       "       [ 6.21578723],\n",
       "       [ 8.16612359],\n",
       "       [ 2.9134246 ],\n",
       "       [ 3.94105142],\n",
       "       [ 6.30656266],\n",
       "       [ 8.20955782],\n",
       "       [ 3.21388677],\n",
       "       [ 1.68478114],\n",
       "       [ 2.72256279],\n",
       "       [ 4.38976354],\n",
       "       [ 0.98462978],\n",
       "       [ 6.2833551 ],\n",
       "       [ 8.96480027],\n",
       "       [ 3.42197812],\n",
       "       [ 9.56378942],\n",
       "       [ 4.19628107],\n",
       "       [ 5.35743794],\n",
       "       [ 9.76730884],\n",
       "       [ 7.10033493],\n",
       "       [ 5.05509275],\n",
       "       [ 7.54558017],\n",
       "       [ 4.73307328],\n",
       "       [ 7.21573981],\n",
       "       [ 2.22349078]])"
      ]
     },
     "execution_count": 32,
     "metadata": {},
     "output_type": "execute_result"
    }
   ],
   "source": [
    "x = 10 * rng.rand(50)\n",
    "x[:,np.newaxis] #add one more dim to data\n",
    "x.reshape((50,1))"
   ]
  },
  {
   "cell_type": "code",
   "execution_count": 9,
   "metadata": {
    "collapsed": true
   },
   "outputs": [],
   "source": [
    "y = 2*x + 1.5"
   ]
  },
  {
   "cell_type": "code",
   "execution_count": 10,
   "metadata": {},
   "outputs": [
    {
     "data": {
      "text/plain": [
       "array([  5.10539378,   1.88950483,  10.76437053,  15.99867858,\n",
       "         9.90407209,  11.20854196,   1.75561629,  11.24743215,\n",
       "        20.33613305,  18.51590179,  16.0992894 ,   3.67472144,\n",
       "        19.37808341,  18.64308494,   4.80173235,  14.14668028,\n",
       "         1.90967226,   3.83474538,   7.82734623,   4.65824613,\n",
       "        16.67959176,  17.86550716,   8.39248982,   7.87597594,\n",
       "         3.73322464,   3.17906287,  15.75451871,  13.49086793,\n",
       "         2.61347359,  11.09594563,   9.53352961,  18.45957995,\n",
       "        15.85698359,  13.54128102,  12.54767643,  20.48204795,\n",
       "        21.23346661,   8.26108099,   6.29749358,  17.42871508,\n",
       "         2.77372862,   8.79231286,   2.90045605,   7.88735414,\n",
       "         2.9076519 ,   7.30527334,  17.30202247,  19.60800642,\n",
       "        17.3524277 ,  12.7363742 ])"
      ]
     },
     "execution_count": 10,
     "metadata": {},
     "output_type": "execute_result"
    }
   ],
   "source": [
    "y"
   ]
  },
  {
   "cell_type": "code",
   "execution_count": 12,
   "metadata": {
    "collapsed": true
   },
   "outputs": [],
   "source": [
    "from sklearn.linear_model import LinearRegression"
   ]
  },
  {
   "cell_type": "code",
   "execution_count": 13,
   "metadata": {
    "collapsed": true
   },
   "outputs": [],
   "source": [
    "model = LinearRegression(fit_intercept=True)"
   ]
  },
  {
   "cell_type": "code",
   "execution_count": 17,
   "metadata": {},
   "outputs": [
    {
     "data": {
      "text/plain": [
       "LinearRegression(copy_X=True, fit_intercept=True, n_jobs=1, normalize=False)"
      ]
     },
     "execution_count": 17,
     "metadata": {},
     "output_type": "execute_result"
    }
   ],
   "source": [
    "#Trained the model with feature & target\n",
    "#Input data should be in form of list of rows\n",
    "model.fit(x[:,np.newaxis],y)"
   ]
  },
  {
   "cell_type": "code",
   "execution_count": 18,
   "metadata": {},
   "outputs": [
    {
     "data": {
      "text/plain": [
       "array([[ 1.80269689],\n",
       "       [ 0.19475241],\n",
       "       [ 4.63218526],\n",
       "       [ 7.24933929],\n",
       "       [ 4.20203605],\n",
       "       [ 4.85427098],\n",
       "       [ 0.12780815],\n",
       "       [ 4.87371607],\n",
       "       [ 9.41806652],\n",
       "       [ 8.50795089],\n",
       "       [ 7.2996447 ],\n",
       "       [ 1.08736072],\n",
       "       [ 8.9390417 ],\n",
       "       [ 8.57154247],\n",
       "       [ 1.65086618],\n",
       "       [ 6.32334014],\n",
       "       [ 0.20483613],\n",
       "       [ 1.16737269],\n",
       "       [ 3.16367312],\n",
       "       [ 1.57912307],\n",
       "       [ 7.58979588],\n",
       "       [ 8.18275358],\n",
       "       [ 3.44624491],\n",
       "       [ 3.18798797],\n",
       "       [ 1.11661232],\n",
       "       [ 0.83953143],\n",
       "       [ 7.12725936],\n",
       "       [ 5.99543396],\n",
       "       [ 0.5567368 ],\n",
       "       [ 4.79797282],\n",
       "       [ 4.01676481],\n",
       "       [ 8.47978998],\n",
       "       [ 7.17849179],\n",
       "       [ 6.02064051],\n",
       "       [ 5.52383822],\n",
       "       [ 9.49102398],\n",
       "       [ 9.8667333 ],\n",
       "       [ 3.3805405 ],\n",
       "       [ 2.39874679],\n",
       "       [ 7.96435754],\n",
       "       [ 0.63686431],\n",
       "       [ 3.64615643],\n",
       "       [ 0.70022803],\n",
       "       [ 3.19367707],\n",
       "       [ 0.70382595],\n",
       "       [ 2.90263667],\n",
       "       [ 7.90101123],\n",
       "       [ 9.05400321],\n",
       "       [ 7.92621385],\n",
       "       [ 5.6181871 ]])"
      ]
     },
     "execution_count": 18,
     "metadata": {},
     "output_type": "execute_result"
    }
   ],
   "source": [
    "x[:,np.newaxis]"
   ]
  },
  {
   "cell_type": "code",
   "execution_count": 19,
   "metadata": {},
   "outputs": [
    {
     "data": {
      "text/plain": [
       "array([ 2.])"
      ]
     },
     "execution_count": 19,
     "metadata": {},
     "output_type": "execute_result"
    }
   ],
   "source": [
    "model.coef_"
   ]
  },
  {
   "cell_type": "code",
   "execution_count": 20,
   "metadata": {},
   "outputs": [
    {
     "data": {
      "text/plain": [
       "1.5000000000000018"
      ]
     },
     "execution_count": 20,
     "metadata": {},
     "output_type": "execute_result"
    }
   ],
   "source": [
    "model.intercept_"
   ]
  },
  {
   "cell_type": "code",
   "execution_count": 33,
   "metadata": {
    "collapsed": true
   },
   "outputs": [],
   "source": [
    "import matplotlib.pyplot as plt\n",
    "%matplotlib inline"
   ]
  },
  {
   "cell_type": "code",
   "execution_count": 34,
   "metadata": {},
   "outputs": [
    {
     "data": {
      "text/plain": [
       "<matplotlib.collections.PathCollection at 0x2093e02a9e8>"
      ]
     },
     "execution_count": 34,
     "metadata": {},
     "output_type": "execute_result"
    },
    {
     "data": {
      "image/png": "[encoded data removed]",
      "text/plain": [
       "<matplotlib.figure.Figure at 0x2093de70ba8>"
      ]
     },
     "metadata": {},
     "output_type": "display_data"
    }
   ],
   "source": [
    "plt.scatter(x,y)"
   ]
  },
  {
   "cell_type": "code",
   "execution_count": 36,
   "metadata": {},
   "outputs": [
    {
     "data": {
      "text/plain": [
       "array([ 5.10539378])"
      ]
     },
     "execution_count": 36,
     "metadata": {},
     "output_type": "execute_result"
    }
   ],
   "source": [
    "model.predict([[1.80269689]])"
   ]
  },
  {
   "cell_type": "code",
   "execution_count": 37,
   "metadata": {},
   "outputs": [
    {
     "data": {
      "text/plain": [
       "array([  5.10539378,   1.88950483,  10.76437053,  15.99867858,\n",
       "         9.90407209,  11.20854196,   1.75561629,  11.24743215,\n",
       "        20.33613305,  18.51590179,  16.0992894 ,   3.67472144,\n",
       "        19.37808341,  18.64308494,   4.80173235,  14.14668028,\n",
       "         1.90967226,   3.83474538,   7.82734623,   4.65824613,\n",
       "        16.67959176,  17.86550716,   8.39248982,   7.87597594,\n",
       "         3.73322464,   3.17906287,  15.75451871,  13.49086793,\n",
       "         2.61347359,  11.09594563,   9.53352961,  18.45957995,\n",
       "        15.85698359,  13.54128102,  12.54767643,  20.48204795,\n",
       "        21.23346661,   8.26108099,   6.29749358,  17.42871508,\n",
       "         2.77372862,   8.79231286,   2.90045605,   7.88735414,\n",
       "         2.9076519 ,   7.30527334,  17.30202247,  19.60800642,\n",
       "        17.3524277 ,  12.7363742 ])"
      ]
     },
     "execution_count": 37,
     "metadata": {},
     "output_type": "execute_result"
    }
   ],
   "source": [
    "y"
   ]
  },
  {
   "cell_type": "code",
   "execution_count": null,
   "metadata": {
    "collapsed": true
   },
   "outputs": [],
   "source": [
    "y = ax^2 + d^x + bz + c"
   ]
  }
 ],
 "metadata": {
  "kernelspec": {
   "display_name": "Python 3",
   "language": "python",
   "name": "python3"
  },
  "language_info": {
   "codemirror_mode": {
    "name": "ipython",
    "version": 3
   },
   "file_extension": ".py",
   "mimetype": "text/x-python",
   "name": "python",
   "nbconvert_exporter": "python",
   "pygments_lexer": "ipython3",
   "version": "3.5.0"
  }
 },
 "nbformat": 4,
 "nbformat_minor": 2
}
