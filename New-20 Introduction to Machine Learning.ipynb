{
 "cells": [
  {
   "cell_type": "markdown",
   "metadata": {},
   "source": [
    "### Defination\n",
    "Machine Learning By examples\n",
    "\n",
    "* Tunable Parameters\n",
    "* Supervised \n",
    "* Unsepervised"
   ]
  },
  {
   "cell_type": "code",
   "execution_count": null,
   "metadata": {
    "collapsed": true
   },
   "outputs": [],
   "source": [
    "x - size\n",
    "y - num of bedrooms\n",
    "ax + bx^2 + cy + cy^2 + d = HP\n",
    "\n",
    "Training\n",
    "a1000 + b1000000 + c2 + c4 + d = 9232332\n",
    "a2000 + b4000000 + c3 + c9 + d = 9232332\n",
    "...\n",
    "\n",
    "3x + b9 + 5"
   ]
  }
 ],
 "metadata": {
  "kernelspec": {
   "display_name": "Python 3",
   "language": "python",
   "name": "python3"
  },
  "language_info": {
   "codemirror_mode": {
    "name": "ipython",
    "version": 3
   },
   "file_extension": ".py",
   "mimetype": "text/x-python",
   "name": "python",
   "nbconvert_exporter": "python",
   "pygments_lexer": "ipython3",
   "version": "3.5.0"
  }
 },
 "nbformat": 4,
 "nbformat_minor": 2
}
